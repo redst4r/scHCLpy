{
 "cells": [
  {
   "cell_type": "markdown",
   "metadata": {},
   "source": [
    "# scHCL\n",
    "Fixing the reference, as there's multiple problems there:\n",
    "\n",
    "1. some of the gene names are note canonical, this is fixed via main.renames\n",
    "2. after fixing this, some genes are present multiple times: \n",
    "    - In the original dataset, the gene AND it's alias where present as two columns\n",
    "    - probably, because two different datasets got aggregated, on which refered to the gene as the correct name, the other as the alias\n",
    "    - hence, we never should see the these genes cooexpressed anywhere\n"
   ]
  },
  {
   "cell_type": "code",
   "execution_count": 1,
   "metadata": {},
   "outputs": [],
   "source": [
    "from scHCLpy import main\n",
    "import collections\n",
    "import pandas as pd\n",
    "import pathlib\n",
    "import matplotlib.pyplot as plt"
   ]
  },
  {
   "cell_type": "code",
   "execution_count": 2,
   "metadata": {},
   "outputs": [
    {
     "data": {
      "text/plain": [
       "[('CD163', 1),\n",
       " ('F13A1', 1),\n",
       " ('STAB1', 1),\n",
       " ('VSIG4', 1),\n",
       " ('MRC1', 1),\n",
       " ('LILRB5', 1),\n",
       " ('RNASE1', 1),\n",
       " ('C1QA', 1),\n",
       " ('TNFAIP2', 1),\n",
       " ('SIGLEC1', 1),\n",
       " ('MSR1', 1),\n",
       " ('MS4A4A', 1),\n",
       " ('MAN1A1', 1),\n",
       " ('SLCO2B1', 1),\n",
       " ('FCGR2B', 1),\n",
       " ('PDK4', 1),\n",
       " ('LYVE1', 1),\n",
       " ('C3AR1', 1),\n",
       " ('RASGEF1B', 1),\n",
       " ('FOLR2', 1)]"
      ]
     },
     "execution_count": 2,
     "metadata": {},
     "output_type": "execute_result"
    }
   ],
   "source": [
    "reference_df = main.load_reference()\n",
    "collections.Counter(reference_df.columns).most_common(20)"
   ]
  },
  {
   "cell_type": "markdown",
   "metadata": {},
   "source": [
    "the the raw data "
   ]
  },
  {
   "cell_type": "code",
   "execution_count": 74,
   "metadata": {},
   "outputs": [],
   "source": [
    "q = pd.read_csv(pathlib.Path(main.__file__).parent / 'data' / 'scHCL_ref.expr.csv.gz', sep=',', index_col=0).T"
   ]
  },
  {
   "cell_type": "markdown",
   "metadata": {},
   "source": [
    "This is the list of genes that are present as correct AND alias"
   ]
  },
  {
   "cell_type": "code",
   "execution_count": 69,
   "metadata": {},
   "outputs": [
    {
     "data": {
      "text/plain": [
       "[('NOV', 'PLXNA1'),\n",
       " ('AMICA1', 'JAML'),\n",
       " ('KIAA0125', 'FAM30A'),\n",
       " ('ADRBK1', 'GRK2'),\n",
       " ('IL8', 'CXCL8'),\n",
       " ('PTPLAD2', 'HACD4'),\n",
       " ('C19orf59', 'MCEMP1'),\n",
       " ('GPR116', 'ADGRF5'),\n",
       " ('ELTD1', 'ADGRL4'),\n",
       " ('PPAP2A', 'PLPP1'),\n",
       " ('PPAP2B', 'PLPP3'),\n",
       " ('FAM132B', 'ERFE'),\n",
       " ('FIGF', 'VEGFD'),\n",
       " ('SGOL1', 'SGO1'),\n",
       " ('IGJ', 'JCHAIN'),\n",
       " ('DARC', 'ACKR1'),\n",
       " ('KIAA1244', 'ARFGEF3'),\n",
       " ('GPR56', 'ADGRG1'),\n",
       " ('ERO1LB', 'ERO1B'),\n",
       " ('MIR143HG', 'CARMN'),\n",
       " ('FAIM3', 'FCMR'),\n",
       " ('PPAP2C', 'PLPP2'),\n",
       " ('CCDC109B', 'MCUB'),\n",
       " ('COX1', 'PTGS1'),\n",
       " ('RNR1', 'NR4A2'),\n",
       " ('COX2', 'PTGS2'),\n",
       " ('ND6', 'MT-ND6'),\n",
       " ('CYBASC3', 'CYB561A3'),\n",
       " ('HLA-DQB', 'HLA-DQB1'),\n",
       " ('LPPR1', 'PLPPR1'),\n",
       " ('AGPAT9', 'LPCAT1'),\n",
       " ('FAM60A', 'SINHCAF'),\n",
       " ('MIR4435-1HG', 'MIR4435-2HG'),\n",
       " ('GPR98', 'ADGRV1'),\n",
       " ('BZRAP1', 'TSPOAP1'),\n",
       " ('HRSP12', 'RIDA'),\n",
       " ('PTPLA', 'HACD1'),\n",
       " ('C12orf39', 'SPX'),\n",
       " ('CGB', 'CGB3'),\n",
       " ('C6orf221', 'KHDC3L'),\n",
       " ('TUBB4Q', 'TUBB7P'),\n",
       " ('PLAC1L', 'OOSP2')]"
      ]
     },
     "execution_count": 69,
     "metadata": {},
     "output_type": "execute_result"
    }
   ],
   "source": [
    "duplicates = [(k,v) for k,v in main.renames.items() if v in q.columns]\n",
    "duplicates"
   ]
  },
  {
   "cell_type": "markdown",
   "metadata": {},
   "source": [
    "usually, these pairs are expressed mutualy exclusive, which would indicate that its just different names in different datasets.\n",
    "However, here are the exceptions"
   ]
  },
  {
   "cell_type": "code",
   "execution_count": 70,
   "metadata": {
    "collapsed": true,
    "jupyter": {
     "outputs_hidden": true
    }
   },
   "outputs": [
    {
     "name": "stdout",
     "output_type": "stream",
     "text": [
      "NOV PLXNA1 255 \n",
      "\n",
      "COX1 PTGS1 1 \n",
      "\n",
      "RNR1 NR4A2 11 \n",
      "\n",
      "COX2 PTGS2 8 \n",
      "\n",
      "HLA-DQB HLA-DQB1 10 \n",
      "\n",
      "AGPAT9 LPCAT1 41 \n",
      "\n"
     ]
    },
    {
     "data": {
      "image/png": "[encoded data removed]",
      "text/plain": [
       "<Figure size 432x288 with 1 Axes>"
      ]
     },
     "metadata": {
      "needs_background": "light"
     },
     "output_type": "display_data"
    },
    {
     "data": {
      "image/png": "[encoded data removed]",
      "text/plain": [
       "<Figure size 432x288 with 1 Axes>"
      ]
     },
     "metadata": {
      "needs_background": "light"
     },
     "output_type": "display_data"
    },
    {
     "data": {
      "image/png": "[encoded data removed]",
      "text/plain": [
       "<Figure size 432x288 with 1 Axes>"
      ]
     },
     "metadata": {
      "needs_background": "light"
     },
     "output_type": "display_data"
    },
    {
     "data": {
      "image/png": "[encoded data removed]",
      "text/plain": [
       "<Figure size 432x288 with 1 Axes>"
      ]
     },
     "metadata": {
      "needs_background": "light"
     },
     "output_type": "display_data"
    },
    {
     "data": {
      "image/png": "[encoded data removed]",
      "text/plain": [
       "<Figure size 432x288 with 1 Axes>"
      ]
     },
     "metadata": {
      "needs_background": "light"
     },
     "output_type": "display_data"
    },
    {
     "data": {
      "image/png": "[encoded data removed]",
      "text/plain": [
       "<Figure size 432x288 with 1 Axes>"
      ]
     },
     "metadata": {
      "needs_background": "light"
     },
     "output_type": "display_data"
    }
   ],
   "source": [
    "for p1, p2 in duplicates:\n",
    "    p1_experiments = q[q[p1] > 0].index\n",
    "    p2_experiments = q[q[p2] > 0].index\n",
    "    if set(p1_experiments) & set(p2_experiments) != set():\n",
    "        \n",
    "        print(p1, p2, len(set(p1_experiments) & set(p2_experiments)), '\\n')\n",
    "        plt.figure()\n",
    "        plt.scatter(q[p1], q[p2])\n",
    "        plt.xlabel(p1)\n",
    "        plt.ylabel(p2)"
   ]
  },
  {
   "cell_type": "markdown",
   "metadata": {},
   "source": [
    "These are probably wrong mappings on my side\n",
    "\n",
    "In particular:\n",
    "- NOV -> CCN3\n",
    "- AGPAT9 -> GPAT3\n",
    "\n",
    "For COX1, COX2 and RNR1, its just unclear what these are supposed to be, so lets drop then"
   ]
  },
  {
   "cell_type": "code",
   "execution_count": 72,
   "metadata": {},
   "outputs": [],
   "source": [
    "q = {'a': 1,'b':6}\n",
    "q.update({'c':3, 'a':6})"
   ]
  },
  {
   "cell_type": "code",
   "execution_count": 78,
   "metadata": {},
   "outputs": [],
   "source": [
    "df_ref = pd.read_csv(pathlib.Path(main.__file__).parent / 'data' / 'scHCL_ref.expr.csv.gz', sep=',', index_col=0).T\n",
    "df_ref = np.log(df_ref+1)\n"
   ]
  },
  {
   "cell_type": "code",
   "execution_count": 77,
   "metadata": {},
   "outputs": [],
   "source": [
    "import numpy as np"
   ]
  },
  {
   "cell_type": "code",
   "execution_count": 81,
   "metadata": {},
   "outputs": [],
   "source": [
    "    _tmp_renames = renames.copy()\n",
    "    _tmp_renames.update(HLA_renames)\n",
    "    _tmp_renames.update(manual_renames)  # this should overwrite some of the wrong automatic renames!\n",
    "\n",
    "    df_ref = df_ref.rename(_tmp_renames, axis=1)\n"
   ]
  },
  {
   "cell_type": "code",
   "execution_count": 85,
   "metadata": {},
   "outputs": [
    {
     "data": {
      "text/plain": [
       "[('HLA-DQB1', 3),\n",
       " ('ADGRV1', 2),\n",
       " ('CXCL8', 2),\n",
       " ('ACKR1', 2),\n",
       " ('ADGRF5', 2),\n",
       " ('ADGRL4', 2),\n",
       " ('HLA-DQA1', 2),\n",
       " ('JCHAIN', 2),\n",
       " ('FCMR', 2),\n",
       " ('VEGFD', 2)]"
      ]
     },
     "execution_count": 85,
     "metadata": {},
     "output_type": "execute_result"
    }
   ],
   "source": [
    "collections.Counter(df_ref.columns).most_common(10)"
   ]
  },
  {
   "cell_type": "code",
   "execution_count": 92,
   "metadata": {},
   "outputs": [
    {
     "data": {
      "text/plain": [
       "M2.Macrophage.Adult.Adipose1.          0.287682\n",
       "Stromal.cell.Adult.Adipose1.           0.000000\n",
       "Adipocyte_SPP1.high.Adult.Adipose1.    0.000000\n",
       "Mast.cell.Adult.Adipose1.              0.000000\n",
       "Adipocyte._FGR.high.Adult.Adipose1.    0.000000\n",
       "                                         ...   \n",
       "Round.spermatid.Testis_Guo.            0.000000\n",
       "Elongated.spermatid.Testis_Guo.        0.000000\n",
       "Sperm1.Testis_Guo.                     0.000000\n",
       "Sperm2.Testis_Guo.                     0.000000\n",
       "Macrophage.Testis_Guo.                 0.000000\n",
       "Length: 1841, dtype: float64"
      ]
     },
     "execution_count": 92,
     "metadata": {},
     "output_type": "execute_result"
    }
   ],
   "source": [
    "df_ref['JCHAIN'].sum(1)"
   ]
  },
  {
   "cell_type": "code",
   "execution_count": 3,
   "metadata": {},
   "outputs": [
    {
     "ename": "NameError",
     "evalue": "name 'df_ref' is not defined",
     "output_type": "error",
     "traceback": [
      "\u001b[0;31m---------------------------------------------------------------------------\u001b[0m",
      "\u001b[0;31mNameError\u001b[0m                                 Traceback (most recent call last)",
      "\u001b[0;32m<ipython-input-3-b942c9c15c05>\u001b[0m in \u001b[0;36m<module>\u001b[0;34m\u001b[0m\n\u001b[1;32m      1\u001b[0m \u001b[0mcols\u001b[0m \u001b[0;34m=\u001b[0m \u001b[0;34m[\u001b[0m\u001b[0;34m]\u001b[0m\u001b[0;34m\u001b[0m\u001b[0;34m\u001b[0m\u001b[0m\n\u001b[0;32m----> 2\u001b[0;31m \u001b[0mall_genes\u001b[0m \u001b[0;34m=\u001b[0m \u001b[0mdf_ref\u001b[0m\u001b[0;34m.\u001b[0m\u001b[0mcolumns\u001b[0m\u001b[0;34m.\u001b[0m\u001b[0munique\u001b[0m\u001b[0;34m(\u001b[0m\u001b[0;34m)\u001b[0m\u001b[0;34m\u001b[0m\u001b[0;34m\u001b[0m\u001b[0m\n\u001b[0m\u001b[1;32m      3\u001b[0m \u001b[0;32mfor\u001b[0m \u001b[0mgene\u001b[0m \u001b[0;32min\u001b[0m \u001b[0mall_genes\u001b[0m\u001b[0;34m:\u001b[0m\u001b[0;34m\u001b[0m\u001b[0;34m\u001b[0m\u001b[0m\n\u001b[1;32m      4\u001b[0m     \u001b[0mseries\u001b[0m \u001b[0;34m=\u001b[0m \u001b[0mdf_ref\u001b[0m\u001b[0;34m[\u001b[0m\u001b[0mgene\u001b[0m\u001b[0;34m]\u001b[0m\u001b[0;34m.\u001b[0m\u001b[0msum\u001b[0m\u001b[0;34m(\u001b[0m\u001b[0;36m1\u001b[0m\u001b[0;34m)\u001b[0m\u001b[0;34m\u001b[0m\u001b[0;34m\u001b[0m\u001b[0m\n\u001b[1;32m      5\u001b[0m     \u001b[0mseries\u001b[0m\u001b[0;34m.\u001b[0m\u001b[0mname\u001b[0m\u001b[0;34m=\u001b[0m\u001b[0mgene\u001b[0m\u001b[0;34m\u001b[0m\u001b[0;34m\u001b[0m\u001b[0m\n",
      "\u001b[0;31mNameError\u001b[0m: name 'df_ref' is not defined"
     ]
    }
   ],
   "source": [
    "    cols = []\n",
    "    all_genes = df_ref.columns.unique()\n",
    "    for gene in all_genes:\n",
    "        series = df_ref[gene].sum(1)\n",
    "        series.name=gene\n",
    "        cols.append(series)"
   ]
  },
  {
   "cell_type": "code",
   "execution_count": 97,
   "metadata": {},
   "outputs": [
    {
     "data": {
      "text/html": [
       "<div>\n",
       "<style scoped>\n",
       "    .dataframe tbody tr th:only-of-type {\n",
       "        vertical-align: middle;\n",
       "    }\n",
       "\n",
       "    .dataframe tbody tr th {\n",
       "        vertical-align: top;\n",
       "    }\n",
       "\n",
       "    .dataframe thead th {\n",
       "        text-align: right;\n",
       "    }\n",
       "</style>\n",
       "<table border=\"1\" class=\"dataframe\">\n",
       "  <thead>\n",
       "    <tr style=\"text-align: right;\">\n",
       "      <th></th>\n",
       "      <th>JCHAIN</th>\n",
       "      <th>JCHAIN</th>\n",
       "    </tr>\n",
       "  </thead>\n",
       "  <tbody>\n",
       "    <tr>\n",
       "      <th>M2.Macrophage.Adult.Adipose1.</th>\n",
       "      <td>0.287682</td>\n",
       "      <td>0.0</td>\n",
       "    </tr>\n",
       "    <tr>\n",
       "      <th>Stromal.cell.Adult.Adipose1.</th>\n",
       "      <td>0.000000</td>\n",
       "      <td>0.0</td>\n",
       "    </tr>\n",
       "    <tr>\n",
       "      <th>Adipocyte_SPP1.high.Adult.Adipose1.</th>\n",
       "      <td>0.000000</td>\n",
       "      <td>0.0</td>\n",
       "    </tr>\n",
       "    <tr>\n",
       "      <th>Mast.cell.Adult.Adipose1.</th>\n",
       "      <td>0.000000</td>\n",
       "      <td>0.0</td>\n",
       "    </tr>\n",
       "    <tr>\n",
       "      <th>Adipocyte._FGR.high.Adult.Adipose1.</th>\n",
       "      <td>0.000000</td>\n",
       "      <td>0.0</td>\n",
       "    </tr>\n",
       "    <tr>\n",
       "      <th>...</th>\n",
       "      <td>...</td>\n",
       "      <td>...</td>\n",
       "    </tr>\n",
       "    <tr>\n",
       "      <th>Round.spermatid.Testis_Guo.</th>\n",
       "      <td>0.000000</td>\n",
       "      <td>0.0</td>\n",
       "    </tr>\n",
       "    <tr>\n",
       "      <th>Elongated.spermatid.Testis_Guo.</th>\n",
       "      <td>0.000000</td>\n",
       "      <td>0.0</td>\n",
       "    </tr>\n",
       "    <tr>\n",
       "      <th>Sperm1.Testis_Guo.</th>\n",
       "      <td>0.000000</td>\n",
       "      <td>0.0</td>\n",
       "    </tr>\n",
       "    <tr>\n",
       "      <th>Sperm2.Testis_Guo.</th>\n",
       "      <td>0.000000</td>\n",
       "      <td>0.0</td>\n",
       "    </tr>\n",
       "    <tr>\n",
       "      <th>Macrophage.Testis_Guo.</th>\n",
       "      <td>0.000000</td>\n",
       "      <td>0.0</td>\n",
       "    </tr>\n",
       "  </tbody>\n",
       "</table>\n",
       "<p>1841 rows × 2 columns</p>\n",
       "</div>"
      ],
      "text/plain": [
       "                                       JCHAIN  JCHAIN\n",
       "M2.Macrophage.Adult.Adipose1.        0.287682     0.0\n",
       "Stromal.cell.Adult.Adipose1.         0.000000     0.0\n",
       "Adipocyte_SPP1.high.Adult.Adipose1.  0.000000     0.0\n",
       "Mast.cell.Adult.Adipose1.            0.000000     0.0\n",
       "Adipocyte._FGR.high.Adult.Adipose1.  0.000000     0.0\n",
       "...                                       ...     ...\n",
       "Round.spermatid.Testis_Guo.          0.000000     0.0\n",
       "Elongated.spermatid.Testis_Guo.      0.000000     0.0\n",
       "Sperm1.Testis_Guo.                   0.000000     0.0\n",
       "Sperm2.Testis_Guo.                   0.000000     0.0\n",
       "Macrophage.Testis_Guo.               0.000000     0.0\n",
       "\n",
       "[1841 rows x 2 columns]"
      ]
     },
     "execution_count": 97,
     "metadata": {},
     "output_type": "execute_result"
    }
   ],
   "source": [
    "df_ref[['JCHAIN']]"
   ]
  },
  {
   "cell_type": "code",
   "execution_count": 5,
   "metadata": {},
   "outputs": [],
   "source": [
    "    df_ref = reference_df    \n",
    "    cols = []\n",
    "    all_genes = df_ref.columns.unique()\n",
    "    for gene in all_genes:\n",
    "        series = df_ref[[gene]].sum(1)  # [[]] needed: if just single occurance [genename] would be a series that we cant sum across\n",
    "        series.name = gene\n",
    "        cols.append(series)"
   ]
  },
  {
   "cell_type": "code",
   "execution_count": 6,
   "metadata": {},
   "outputs": [],
   "source": []
  },
  {
   "cell_type": "code",
   "execution_count": 7,
   "metadata": {},
   "outputs": [
    {
     "data": {
      "text/plain": [
       "6027"
      ]
     },
     "execution_count": 7,
     "metadata": {},
     "output_type": "execute_result"
    }
   ],
   "source": [
    "len(w.columns)"
   ]
  },
  {
   "cell_type": "code",
   "execution_count": 8,
   "metadata": {},
   "outputs": [
    {
     "data": {
      "text/plain": [
       "6027"
      ]
     },
     "execution_count": 8,
     "metadata": {},
     "output_type": "execute_result"
    }
   ],
   "source": [
    "len(w.columns.unique())"
   ]
  },
  {
   "cell_type": "code",
   "execution_count": 10,
   "metadata": {},
   "outputs": [
    {
     "data": {
      "text/html": [
       "<div>\n",
       "<style scoped>\n",
       "    .dataframe tbody tr th:only-of-type {\n",
       "        vertical-align: middle;\n",
       "    }\n",
       "\n",
       "    .dataframe tbody tr th {\n",
       "        vertical-align: top;\n",
       "    }\n",
       "\n",
       "    .dataframe thead th {\n",
       "        text-align: right;\n",
       "    }\n",
       "</style>\n",
       "<table border=\"1\" class=\"dataframe\">\n",
       "  <thead>\n",
       "    <tr style=\"text-align: right;\">\n",
       "      <th></th>\n",
       "      <th>CD163</th>\n",
       "      <th>F13A1</th>\n",
       "      <th>STAB1</th>\n",
       "      <th>VSIG4</th>\n",
       "      <th>MRC1</th>\n",
       "      <th>LILRB5</th>\n",
       "      <th>RNASE1</th>\n",
       "      <th>C1QA</th>\n",
       "      <th>TNFAIP2</th>\n",
       "      <th>SIGLEC1</th>\n",
       "      <th>...</th>\n",
       "      <th>C10orf62</th>\n",
       "      <th>TPPP2</th>\n",
       "      <th>IQCF3</th>\n",
       "      <th>TSSK6</th>\n",
       "      <th>UBL4B</th>\n",
       "      <th>SPATA3</th>\n",
       "      <th>TCP11</th>\n",
       "      <th>SPATA42</th>\n",
       "      <th>PROCA1</th>\n",
       "      <th>RP11-404O13.5</th>\n",
       "    </tr>\n",
       "  </thead>\n",
       "  <tbody>\n",
       "    <tr>\n",
       "      <th>M2.Macrophage.Adult.Adipose1.</th>\n",
       "      <td>6.016157</td>\n",
       "      <td>5.472271</td>\n",
       "      <td>5.155217</td>\n",
       "      <td>5.243509</td>\n",
       "      <td>4.992698</td>\n",
       "      <td>4.105394</td>\n",
       "      <td>6.669498</td>\n",
       "      <td>6.172396</td>\n",
       "      <td>4.666579</td>\n",
       "      <td>3.646320</td>\n",
       "      <td>...</td>\n",
       "      <td>0.000000</td>\n",
       "      <td>0.000000</td>\n",
       "      <td>0.000000</td>\n",
       "      <td>0.000000</td>\n",
       "      <td>0.000000</td>\n",
       "      <td>0.000000</td>\n",
       "      <td>0.000000</td>\n",
       "      <td>0.000000</td>\n",
       "      <td>1.098612</td>\n",
       "      <td>0.000000</td>\n",
       "    </tr>\n",
       "    <tr>\n",
       "      <th>Stromal.cell.Adult.Adipose1.</th>\n",
       "      <td>5.093750</td>\n",
       "      <td>4.330733</td>\n",
       "      <td>4.048882</td>\n",
       "      <td>3.976562</td>\n",
       "      <td>4.043051</td>\n",
       "      <td>3.367296</td>\n",
       "      <td>5.709323</td>\n",
       "      <td>5.232890</td>\n",
       "      <td>4.077537</td>\n",
       "      <td>2.538974</td>\n",
       "      <td>...</td>\n",
       "      <td>0.000000</td>\n",
       "      <td>0.000000</td>\n",
       "      <td>0.000000</td>\n",
       "      <td>0.000000</td>\n",
       "      <td>0.000000</td>\n",
       "      <td>0.000000</td>\n",
       "      <td>0.000000</td>\n",
       "      <td>0.000000</td>\n",
       "      <td>0.000000</td>\n",
       "      <td>0.000000</td>\n",
       "    </tr>\n",
       "    <tr>\n",
       "      <th>Adipocyte_SPP1.high.Adult.Adipose1.</th>\n",
       "      <td>5.655992</td>\n",
       "      <td>3.970292</td>\n",
       "      <td>4.204693</td>\n",
       "      <td>4.543295</td>\n",
       "      <td>4.290459</td>\n",
       "      <td>3.135494</td>\n",
       "      <td>5.891644</td>\n",
       "      <td>5.594711</td>\n",
       "      <td>3.367296</td>\n",
       "      <td>1.945910</td>\n",
       "      <td>...</td>\n",
       "      <td>0.000000</td>\n",
       "      <td>0.000000</td>\n",
       "      <td>0.000000</td>\n",
       "      <td>0.000000</td>\n",
       "      <td>0.000000</td>\n",
       "      <td>0.000000</td>\n",
       "      <td>0.000000</td>\n",
       "      <td>0.000000</td>\n",
       "      <td>0.693147</td>\n",
       "      <td>0.000000</td>\n",
       "    </tr>\n",
       "    <tr>\n",
       "      <th>Mast.cell.Adult.Adipose1.</th>\n",
       "      <td>5.755742</td>\n",
       "      <td>5.252273</td>\n",
       "      <td>5.105945</td>\n",
       "      <td>4.736198</td>\n",
       "      <td>4.948760</td>\n",
       "      <td>4.330733</td>\n",
       "      <td>6.648985</td>\n",
       "      <td>6.098074</td>\n",
       "      <td>4.644391</td>\n",
       "      <td>3.583519</td>\n",
       "      <td>...</td>\n",
       "      <td>0.000000</td>\n",
       "      <td>0.000000</td>\n",
       "      <td>0.000000</td>\n",
       "      <td>0.000000</td>\n",
       "      <td>0.000000</td>\n",
       "      <td>0.000000</td>\n",
       "      <td>0.000000</td>\n",
       "      <td>0.000000</td>\n",
       "      <td>0.000000</td>\n",
       "      <td>0.000000</td>\n",
       "    </tr>\n",
       "    <tr>\n",
       "      <th>Adipocyte._FGR.high.Adult.Adipose1.</th>\n",
       "      <td>6.093570</td>\n",
       "      <td>4.553877</td>\n",
       "      <td>4.795791</td>\n",
       "      <td>5.135798</td>\n",
       "      <td>4.934474</td>\n",
       "      <td>4.276666</td>\n",
       "      <td>6.483107</td>\n",
       "      <td>6.003887</td>\n",
       "      <td>3.610918</td>\n",
       "      <td>2.772589</td>\n",
       "      <td>...</td>\n",
       "      <td>0.000000</td>\n",
       "      <td>0.000000</td>\n",
       "      <td>0.000000</td>\n",
       "      <td>0.000000</td>\n",
       "      <td>0.000000</td>\n",
       "      <td>0.000000</td>\n",
       "      <td>0.000000</td>\n",
       "      <td>0.000000</td>\n",
       "      <td>0.000000</td>\n",
       "      <td>0.000000</td>\n",
       "    </tr>\n",
       "    <tr>\n",
       "      <th>...</th>\n",
       "      <td>...</td>\n",
       "      <td>...</td>\n",
       "      <td>...</td>\n",
       "      <td>...</td>\n",
       "      <td>...</td>\n",
       "      <td>...</td>\n",
       "      <td>...</td>\n",
       "      <td>...</td>\n",
       "      <td>...</td>\n",
       "      <td>...</td>\n",
       "      <td>...</td>\n",
       "      <td>...</td>\n",
       "      <td>...</td>\n",
       "      <td>...</td>\n",
       "      <td>...</td>\n",
       "      <td>...</td>\n",
       "      <td>...</td>\n",
       "      <td>...</td>\n",
       "      <td>...</td>\n",
       "      <td>...</td>\n",
       "      <td>...</td>\n",
       "    </tr>\n",
       "    <tr>\n",
       "      <th>Round.spermatid.Testis_Guo.</th>\n",
       "      <td>0.287682</td>\n",
       "      <td>0.000000</td>\n",
       "      <td>0.000000</td>\n",
       "      <td>0.287682</td>\n",
       "      <td>0.000000</td>\n",
       "      <td>0.000000</td>\n",
       "      <td>0.693147</td>\n",
       "      <td>0.000000</td>\n",
       "      <td>0.847298</td>\n",
       "      <td>0.000000</td>\n",
       "      <td>...</td>\n",
       "      <td>3.091042</td>\n",
       "      <td>3.555348</td>\n",
       "      <td>3.713572</td>\n",
       "      <td>2.159484</td>\n",
       "      <td>4.013375</td>\n",
       "      <td>2.036882</td>\n",
       "      <td>4.560870</td>\n",
       "      <td>2.397895</td>\n",
       "      <td>4.083171</td>\n",
       "      <td>0.000000</td>\n",
       "    </tr>\n",
       "    <tr>\n",
       "      <th>Elongated.spermatid.Testis_Guo.</th>\n",
       "      <td>0.000000</td>\n",
       "      <td>0.000000</td>\n",
       "      <td>0.000000</td>\n",
       "      <td>0.000000</td>\n",
       "      <td>0.980829</td>\n",
       "      <td>0.000000</td>\n",
       "      <td>0.510826</td>\n",
       "      <td>0.000000</td>\n",
       "      <td>1.098612</td>\n",
       "      <td>0.000000</td>\n",
       "      <td>...</td>\n",
       "      <td>4.724434</td>\n",
       "      <td>4.781921</td>\n",
       "      <td>4.679040</td>\n",
       "      <td>4.553877</td>\n",
       "      <td>4.503507</td>\n",
       "      <td>3.931826</td>\n",
       "      <td>4.628235</td>\n",
       "      <td>4.543295</td>\n",
       "      <td>4.631487</td>\n",
       "      <td>0.980829</td>\n",
       "    </tr>\n",
       "    <tr>\n",
       "      <th>Sperm1.Testis_Guo.</th>\n",
       "      <td>0.000000</td>\n",
       "      <td>0.000000</td>\n",
       "      <td>0.000000</td>\n",
       "      <td>0.000000</td>\n",
       "      <td>0.287682</td>\n",
       "      <td>0.000000</td>\n",
       "      <td>0.510826</td>\n",
       "      <td>0.000000</td>\n",
       "      <td>0.510826</td>\n",
       "      <td>0.000000</td>\n",
       "      <td>...</td>\n",
       "      <td>5.245268</td>\n",
       "      <td>5.239982</td>\n",
       "      <td>5.079332</td>\n",
       "      <td>5.151363</td>\n",
       "      <td>4.804021</td>\n",
       "      <td>4.546835</td>\n",
       "      <td>4.965173</td>\n",
       "      <td>4.900324</td>\n",
       "      <td>4.924835</td>\n",
       "      <td>0.000000</td>\n",
       "    </tr>\n",
       "    <tr>\n",
       "      <th>Sperm2.Testis_Guo.</th>\n",
       "      <td>0.000000</td>\n",
       "      <td>0.000000</td>\n",
       "      <td>0.000000</td>\n",
       "      <td>0.000000</td>\n",
       "      <td>0.000000</td>\n",
       "      <td>0.000000</td>\n",
       "      <td>0.847298</td>\n",
       "      <td>0.000000</td>\n",
       "      <td>0.510826</td>\n",
       "      <td>0.000000</td>\n",
       "      <td>...</td>\n",
       "      <td>5.924256</td>\n",
       "      <td>5.842578</td>\n",
       "      <td>5.103923</td>\n",
       "      <td>5.797070</td>\n",
       "      <td>5.532071</td>\n",
       "      <td>5.458166</td>\n",
       "      <td>5.524124</td>\n",
       "      <td>5.439528</td>\n",
       "      <td>5.577211</td>\n",
       "      <td>0.000000</td>\n",
       "    </tr>\n",
       "    <tr>\n",
       "      <th>Macrophage.Testis_Guo.</th>\n",
       "      <td>5.155217</td>\n",
       "      <td>3.191847</td>\n",
       "      <td>2.335375</td>\n",
       "      <td>4.330733</td>\n",
       "      <td>3.091042</td>\n",
       "      <td>0.287682</td>\n",
       "      <td>5.021685</td>\n",
       "      <td>5.458166</td>\n",
       "      <td>1.540445</td>\n",
       "      <td>0.847298</td>\n",
       "      <td>...</td>\n",
       "      <td>0.847298</td>\n",
       "      <td>1.299283</td>\n",
       "      <td>0.693147</td>\n",
       "      <td>1.203973</td>\n",
       "      <td>1.203973</td>\n",
       "      <td>0.693147</td>\n",
       "      <td>1.203973</td>\n",
       "      <td>1.299283</td>\n",
       "      <td>1.386294</td>\n",
       "      <td>2.367124</td>\n",
       "    </tr>\n",
       "  </tbody>\n",
       "</table>\n",
       "<p>1841 rows × 6027 columns</p>\n",
       "</div>"
      ],
      "text/plain": [
       "                                        CD163     F13A1     STAB1     VSIG4  \\\n",
       "M2.Macrophage.Adult.Adipose1.        6.016157  5.472271  5.155217  5.243509   \n",
       "Stromal.cell.Adult.Adipose1.         5.093750  4.330733  4.048882  3.976562   \n",
       "Adipocyte_SPP1.high.Adult.Adipose1.  5.655992  3.970292  4.204693  4.543295   \n",
       "Mast.cell.Adult.Adipose1.            5.755742  5.252273  5.105945  4.736198   \n",
       "Adipocyte._FGR.high.Adult.Adipose1.  6.093570  4.553877  4.795791  5.135798   \n",
       "...                                       ...       ...       ...       ...   \n",
       "Round.spermatid.Testis_Guo.          0.287682  0.000000  0.000000  0.287682   \n",
       "Elongated.spermatid.Testis_Guo.      0.000000  0.000000  0.000000  0.000000   \n",
       "Sperm1.Testis_Guo.                   0.000000  0.000000  0.000000  0.000000   \n",
       "Sperm2.Testis_Guo.                   0.000000  0.000000  0.000000  0.000000   \n",
       "Macrophage.Testis_Guo.               5.155217  3.191847  2.335375  4.330733   \n",
       "\n",
       "                                         MRC1    LILRB5    RNASE1      C1QA  \\\n",
       "M2.Macrophage.Adult.Adipose1.        4.992698  4.105394  6.669498  6.172396   \n",
       "Stromal.cell.Adult.Adipose1.         4.043051  3.367296  5.709323  5.232890   \n",
       "Adipocyte_SPP1.high.Adult.Adipose1.  4.290459  3.135494  5.891644  5.594711   \n",
       "Mast.cell.Adult.Adipose1.            4.948760  4.330733  6.648985  6.098074   \n",
       "Adipocyte._FGR.high.Adult.Adipose1.  4.934474  4.276666  6.483107  6.003887   \n",
       "...                                       ...       ...       ...       ...   \n",
       "Round.spermatid.Testis_Guo.          0.000000  0.000000  0.693147  0.000000   \n",
       "Elongated.spermatid.Testis_Guo.      0.980829  0.000000  0.510826  0.000000   \n",
       "Sperm1.Testis_Guo.                   0.287682  0.000000  0.510826  0.000000   \n",
       "Sperm2.Testis_Guo.                   0.000000  0.000000  0.847298  0.000000   \n",
       "Macrophage.Testis_Guo.               3.091042  0.287682  5.021685  5.458166   \n",
       "\n",
       "                                      TNFAIP2   SIGLEC1  ...  C10orf62  \\\n",
       "M2.Macrophage.Adult.Adipose1.        4.666579  3.646320  ...  0.000000   \n",
       "Stromal.cell.Adult.Adipose1.         4.077537  2.538974  ...  0.000000   \n",
       "Adipocyte_SPP1.high.Adult.Adipose1.  3.367296  1.945910  ...  0.000000   \n",
       "Mast.cell.Adult.Adipose1.            4.644391  3.583519  ...  0.000000   \n",
       "Adipocyte._FGR.high.Adult.Adipose1.  3.610918  2.772589  ...  0.000000   \n",
       "...                                       ...       ...  ...       ...   \n",
       "Round.spermatid.Testis_Guo.          0.847298  0.000000  ...  3.091042   \n",
       "Elongated.spermatid.Testis_Guo.      1.098612  0.000000  ...  4.724434   \n",
       "Sperm1.Testis_Guo.                   0.510826  0.000000  ...  5.245268   \n",
       "Sperm2.Testis_Guo.                   0.510826  0.000000  ...  5.924256   \n",
       "Macrophage.Testis_Guo.               1.540445  0.847298  ...  0.847298   \n",
       "\n",
       "                                        TPPP2     IQCF3     TSSK6     UBL4B  \\\n",
       "M2.Macrophage.Adult.Adipose1.        0.000000  0.000000  0.000000  0.000000   \n",
       "Stromal.cell.Adult.Adipose1.         0.000000  0.000000  0.000000  0.000000   \n",
       "Adipocyte_SPP1.high.Adult.Adipose1.  0.000000  0.000000  0.000000  0.000000   \n",
       "Mast.cell.Adult.Adipose1.            0.000000  0.000000  0.000000  0.000000   \n",
       "Adipocyte._FGR.high.Adult.Adipose1.  0.000000  0.000000  0.000000  0.000000   \n",
       "...                                       ...       ...       ...       ...   \n",
       "Round.spermatid.Testis_Guo.          3.555348  3.713572  2.159484  4.013375   \n",
       "Elongated.spermatid.Testis_Guo.      4.781921  4.679040  4.553877  4.503507   \n",
       "Sperm1.Testis_Guo.                   5.239982  5.079332  5.151363  4.804021   \n",
       "Sperm2.Testis_Guo.                   5.842578  5.103923  5.797070  5.532071   \n",
       "Macrophage.Testis_Guo.               1.299283  0.693147  1.203973  1.203973   \n",
       "\n",
       "                                       SPATA3     TCP11   SPATA42    PROCA1  \\\n",
       "M2.Macrophage.Adult.Adipose1.        0.000000  0.000000  0.000000  1.098612   \n",
       "Stromal.cell.Adult.Adipose1.         0.000000  0.000000  0.000000  0.000000   \n",
       "Adipocyte_SPP1.high.Adult.Adipose1.  0.000000  0.000000  0.000000  0.693147   \n",
       "Mast.cell.Adult.Adipose1.            0.000000  0.000000  0.000000  0.000000   \n",
       "Adipocyte._FGR.high.Adult.Adipose1.  0.000000  0.000000  0.000000  0.000000   \n",
       "...                                       ...       ...       ...       ...   \n",
       "Round.spermatid.Testis_Guo.          2.036882  4.560870  2.397895  4.083171   \n",
       "Elongated.spermatid.Testis_Guo.      3.931826  4.628235  4.543295  4.631487   \n",
       "Sperm1.Testis_Guo.                   4.546835  4.965173  4.900324  4.924835   \n",
       "Sperm2.Testis_Guo.                   5.458166  5.524124  5.439528  5.577211   \n",
       "Macrophage.Testis_Guo.               0.693147  1.203973  1.299283  1.386294   \n",
       "\n",
       "                                     RP11-404O13.5  \n",
       "M2.Macrophage.Adult.Adipose1.             0.000000  \n",
       "Stromal.cell.Adult.Adipose1.              0.000000  \n",
       "Adipocyte_SPP1.high.Adult.Adipose1.       0.000000  \n",
       "Mast.cell.Adult.Adipose1.                 0.000000  \n",
       "Adipocyte._FGR.high.Adult.Adipose1.       0.000000  \n",
       "...                                            ...  \n",
       "Round.spermatid.Testis_Guo.               0.000000  \n",
       "Elongated.spermatid.Testis_Guo.           0.980829  \n",
       "Sperm1.Testis_Guo.                        0.000000  \n",
       "Sperm2.Testis_Guo.                        0.000000  \n",
       "Macrophage.Testis_Guo.                    2.367124  \n",
       "\n",
       "[1841 rows x 6027 columns]"
      ]
     },
     "execution_count": 10,
     "metadata": {},
     "output_type": "execute_result"
    }
   ],
   "source": [
    "w"
   ]
  },
  {
   "cell_type": "code",
   "execution_count": null,
   "metadata": {},
   "outputs": [],
   "source": []
  }
 ],
 "metadata": {
  "kernelspec": {
   "display_name": "Python 3",
   "language": "python",
   "name": "python3"
  },
  "language_info": {
   "codemirror_mode": {
    "name": "ipython",
    "version": 3
   },
   "file_extension": ".py",
   "mimetype": "text/x-python",
   "name": "python",
   "nbconvert_exporter": "python",
   "pygments_lexer": "ipython3",
   "version": "3.7.7"
  }
 },
 "nbformat": 4,
 "nbformat_minor": 4
}
